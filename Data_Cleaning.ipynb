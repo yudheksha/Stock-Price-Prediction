{
 "cells": [
  {
   "cell_type": "markdown",
   "id": "aRc0RRRsMFam",
   "metadata": {
    "id": "aRc0RRRsMFam"
   },
   "source": [
    "### Module 1 : Data Cleaning and Data collection "
   ]
  },
  {
   "cell_type": "code",
   "execution_count": null,
   "id": "f91eb4e9",
   "metadata": {
    "id": "f91eb4e9"
   },
   "outputs": [],
   "source": [
    "# Importing necessary libraries \n",
    "import yfinance as yf\n",
    "import matplotlib.pyplot as plt"
   ]
  },
  {
   "cell_type": "code",
   "execution_count": null,
   "id": "rVnR4fGoI42Y",
   "metadata": {
    "id": "rVnR4fGoI42Y"
   },
   "outputs": [],
   "source": [
    "#See the yahoo finance ticker for your stock symbol\n",
    "stock_symbol = 'GAIL.NS'"
   ]
  },
  {
   "cell_type": "code",
   "execution_count": null,
   "id": "d365868a",
   "metadata": {
    "colab": {
     "base_uri": "https://localhost:8080/"
    },
    "id": "d365868a",
    "outputId": "d5b40e59-a9eb-4ee1-8e26-0e25b79334fa"
   },
   "outputs": [
    {
     "name": "stdout",
     "output_type": "stream",
     "text": [
      "\r",
      "[*********************100%***********************]  1 of 1 completed\n"
     ]
    }
   ],
   "source": [
    "#last 10 years data with interval of 1 day\n",
    "data = yf.download(tickers=stock_symbol,period='10y',interval='1d')"
   ]
  },
  {
   "cell_type": "code",
   "execution_count": null,
   "id": "9f82e205",
   "metadata": {
    "colab": {
     "base_uri": "https://localhost:8080/"
    },
    "id": "9f82e205",
    "outputId": "4c207e72-2ffe-44ad-a9f7-8f3434589588"
   },
   "outputs": [
    {
     "data": {
      "text/plain": [
       "pandas.core.frame.DataFrame"
      ]
     },
     "execution_count": 79,
     "metadata": {},
     "output_type": "execute_result"
    }
   ],
   "source": [
    "type(data)"
   ]
  },
  {
   "cell_type": "code",
   "execution_count": null,
   "id": "9yE0him6JC8R",
   "metadata": {
    "id": "9yE0him6JC8R"
   },
   "outputs": [],
   "source": [
    "# Yahoo fiance dataset is used "
   ]
  },
  {
   "cell_type": "code",
   "execution_count": null,
   "id": "dbbe3e6b",
   "metadata": {
    "colab": {
     "base_uri": "https://localhost:8080/",
     "height": 455
    },
    "id": "dbbe3e6b",
    "outputId": "2b0a309c-f53b-4dbd-e875-9ae91ee01030"
   },
   "outputs": [
    {
     "data": {
      "text/html": [
       "\n",
       "  <div id=\"df-7325062d-62b3-49bb-a538-3f73de42cf1d\">\n",
       "    <div class=\"colab-df-container\">\n",
       "      <div>\n",
       "<style scoped>\n",
       "    .dataframe tbody tr th:only-of-type {\n",
       "        vertical-align: middle;\n",
       "    }\n",
       "\n",
       "    .dataframe tbody tr th {\n",
       "        vertical-align: top;\n",
       "    }\n",
       "\n",
       "    .dataframe thead th {\n",
       "        text-align: right;\n",
       "    }\n",
       "</style>\n",
       "<table border=\"1\" class=\"dataframe\">\n",
       "  <thead>\n",
       "    <tr style=\"text-align: right;\">\n",
       "      <th></th>\n",
       "      <th>Open</th>\n",
       "      <th>High</th>\n",
       "      <th>Low</th>\n",
       "      <th>Close</th>\n",
       "      <th>Adj Close</th>\n",
       "      <th>Volume</th>\n",
       "    </tr>\n",
       "    <tr>\n",
       "      <th>Date</th>\n",
       "      <th></th>\n",
       "      <th></th>\n",
       "      <th></th>\n",
       "      <th></th>\n",
       "      <th></th>\n",
       "      <th></th>\n",
       "    </tr>\n",
       "  </thead>\n",
       "  <tbody>\n",
       "    <tr>\n",
       "      <th>2012-04-09</th>\n",
       "      <td>104.343803</td>\n",
       "      <td>104.343803</td>\n",
       "      <td>101.643799</td>\n",
       "      <td>102.135986</td>\n",
       "      <td>73.833321</td>\n",
       "      <td>2388773</td>\n",
       "    </tr>\n",
       "    <tr>\n",
       "      <th>2012-04-10</th>\n",
       "      <td>101.137550</td>\n",
       "      <td>101.250053</td>\n",
       "      <td>91.167236</td>\n",
       "      <td>100.012550</td>\n",
       "      <td>72.298309</td>\n",
       "      <td>19487983</td>\n",
       "    </tr>\n",
       "    <tr>\n",
       "      <th>2012-04-11</th>\n",
       "      <td>100.350052</td>\n",
       "      <td>101.615677</td>\n",
       "      <td>98.465675</td>\n",
       "      <td>99.632858</td>\n",
       "      <td>72.023849</td>\n",
       "      <td>6737152</td>\n",
       "    </tr>\n",
       "    <tr>\n",
       "      <th>2012-04-12</th>\n",
       "      <td>99.689110</td>\n",
       "      <td>101.250053</td>\n",
       "      <td>99.689110</td>\n",
       "      <td>100.982864</td>\n",
       "      <td>72.999756</td>\n",
       "      <td>1583366</td>\n",
       "    </tr>\n",
       "    <tr>\n",
       "      <th>2012-04-13</th>\n",
       "      <td>100.687553</td>\n",
       "      <td>102.979736</td>\n",
       "      <td>99.703171</td>\n",
       "      <td>100.195358</td>\n",
       "      <td>72.430458</td>\n",
       "      <td>2982106</td>\n",
       "    </tr>\n",
       "    <tr>\n",
       "      <th>...</th>\n",
       "      <td>...</td>\n",
       "      <td>...</td>\n",
       "      <td>...</td>\n",
       "      <td>...</td>\n",
       "      <td>...</td>\n",
       "      <td>...</td>\n",
       "    </tr>\n",
       "    <tr>\n",
       "      <th>2022-03-30</th>\n",
       "      <td>153.500000</td>\n",
       "      <td>154.300003</td>\n",
       "      <td>151.899994</td>\n",
       "      <td>153.449997</td>\n",
       "      <td>153.449997</td>\n",
       "      <td>9955451</td>\n",
       "    </tr>\n",
       "    <tr>\n",
       "      <th>2022-03-31</th>\n",
       "      <td>154.800003</td>\n",
       "      <td>157.250000</td>\n",
       "      <td>152.850006</td>\n",
       "      <td>155.649994</td>\n",
       "      <td>155.649994</td>\n",
       "      <td>29091799</td>\n",
       "    </tr>\n",
       "    <tr>\n",
       "      <th>2022-04-01</th>\n",
       "      <td>157.000000</td>\n",
       "      <td>162.399994</td>\n",
       "      <td>155.850006</td>\n",
       "      <td>162.050003</td>\n",
       "      <td>162.050003</td>\n",
       "      <td>17417060</td>\n",
       "    </tr>\n",
       "    <tr>\n",
       "      <th>2022-04-04</th>\n",
       "      <td>163.600006</td>\n",
       "      <td>164.399994</td>\n",
       "      <td>161.300003</td>\n",
       "      <td>161.699997</td>\n",
       "      <td>161.699997</td>\n",
       "      <td>11484642</td>\n",
       "    </tr>\n",
       "    <tr>\n",
       "      <th>2022-04-05</th>\n",
       "      <td>162.850006</td>\n",
       "      <td>163.500000</td>\n",
       "      <td>160.149994</td>\n",
       "      <td>160.750000</td>\n",
       "      <td>160.750000</td>\n",
       "      <td>11526625</td>\n",
       "    </tr>\n",
       "  </tbody>\n",
       "</table>\n",
       "<p>2464 rows × 6 columns</p>\n",
       "</div>\n",
       "      <button class=\"colab-df-convert\" onclick=\"convertToInteractive('df-7325062d-62b3-49bb-a538-3f73de42cf1d')\"\n",
       "              title=\"Convert this dataframe to an interactive table.\"\n",
       "              style=\"display:none;\">\n",
       "        \n",
       "  <svg xmlns=\"http://www.w3.org/2000/svg\" height=\"24px\"viewBox=\"0 0 24 24\"\n",
       "       width=\"24px\">\n",
       "    <path d=\"M0 0h24v24H0V0z\" fill=\"none\"/>\n",
       "    <path d=\"M18.56 5.44l.94 2.06.94-2.06 2.06-.94-2.06-.94-.94-2.06-.94 2.06-2.06.94zm-11 1L8.5 8.5l.94-2.06 2.06-.94-2.06-.94L8.5 2.5l-.94 2.06-2.06.94zm10 10l.94 2.06.94-2.06 2.06-.94-2.06-.94-.94-2.06-.94 2.06-2.06.94z\"/><path d=\"M17.41 7.96l-1.37-1.37c-.4-.4-.92-.59-1.43-.59-.52 0-1.04.2-1.43.59L10.3 9.45l-7.72 7.72c-.78.78-.78 2.05 0 2.83L4 21.41c.39.39.9.59 1.41.59.51 0 1.02-.2 1.41-.59l7.78-7.78 2.81-2.81c.8-.78.8-2.07 0-2.86zM5.41 20L4 18.59l7.72-7.72 1.47 1.35L5.41 20z\"/>\n",
       "  </svg>\n",
       "      </button>\n",
       "      \n",
       "  <style>\n",
       "    .colab-df-container {\n",
       "      display:flex;\n",
       "      flex-wrap:wrap;\n",
       "      gap: 12px;\n",
       "    }\n",
       "\n",
       "    .colab-df-convert {\n",
       "      background-color: #E8F0FE;\n",
       "      border: none;\n",
       "      border-radius: 50%;\n",
       "      cursor: pointer;\n",
       "      display: none;\n",
       "      fill: #1967D2;\n",
       "      height: 32px;\n",
       "      padding: 0 0 0 0;\n",
       "      width: 32px;\n",
       "    }\n",
       "\n",
       "    .colab-df-convert:hover {\n",
       "      background-color: #E2EBFA;\n",
       "      box-shadow: 0px 1px 2px rgba(60, 64, 67, 0.3), 0px 1px 3px 1px rgba(60, 64, 67, 0.15);\n",
       "      fill: #174EA6;\n",
       "    }\n",
       "\n",
       "    [theme=dark] .colab-df-convert {\n",
       "      background-color: #3B4455;\n",
       "      fill: #D2E3FC;\n",
       "    }\n",
       "\n",
       "    [theme=dark] .colab-df-convert:hover {\n",
       "      background-color: #434B5C;\n",
       "      box-shadow: 0px 1px 3px 1px rgba(0, 0, 0, 0.15);\n",
       "      filter: drop-shadow(0px 1px 2px rgba(0, 0, 0, 0.3));\n",
       "      fill: #FFFFFF;\n",
       "    }\n",
       "  </style>\n",
       "\n",
       "      <script>\n",
       "        const buttonEl =\n",
       "          document.querySelector('#df-7325062d-62b3-49bb-a538-3f73de42cf1d button.colab-df-convert');\n",
       "        buttonEl.style.display =\n",
       "          google.colab.kernel.accessAllowed ? 'block' : 'none';\n",
       "\n",
       "        async function convertToInteractive(key) {\n",
       "          const element = document.querySelector('#df-7325062d-62b3-49bb-a538-3f73de42cf1d');\n",
       "          const dataTable =\n",
       "            await google.colab.kernel.invokeFunction('convertToInteractive',\n",
       "                                                     [key], {});\n",
       "          if (!dataTable) return;\n",
       "\n",
       "          const docLinkHtml = 'Like what you see? Visit the ' +\n",
       "            '<a target=\"_blank\" href=https://colab.research.google.com/notebooks/data_table.ipynb>data table notebook</a>'\n",
       "            + ' to learn more about interactive tables.';\n",
       "          element.innerHTML = '';\n",
       "          dataTable['output_type'] = 'display_data';\n",
       "          await google.colab.output.renderOutput(dataTable, element);\n",
       "          const docLink = document.createElement('div');\n",
       "          docLink.innerHTML = docLinkHtml;\n",
       "          element.appendChild(docLink);\n",
       "        }\n",
       "      </script>\n",
       "    </div>\n",
       "  </div>\n",
       "  "
      ],
      "text/plain": [
       "                  Open        High         Low       Close   Adj Close  \\\n",
       "Date                                                                     \n",
       "2012-04-09  104.343803  104.343803  101.643799  102.135986   73.833321   \n",
       "2012-04-10  101.137550  101.250053   91.167236  100.012550   72.298309   \n",
       "2012-04-11  100.350052  101.615677   98.465675   99.632858   72.023849   \n",
       "2012-04-12   99.689110  101.250053   99.689110  100.982864   72.999756   \n",
       "2012-04-13  100.687553  102.979736   99.703171  100.195358   72.430458   \n",
       "...                ...         ...         ...         ...         ...   \n",
       "2022-03-30  153.500000  154.300003  151.899994  153.449997  153.449997   \n",
       "2022-03-31  154.800003  157.250000  152.850006  155.649994  155.649994   \n",
       "2022-04-01  157.000000  162.399994  155.850006  162.050003  162.050003   \n",
       "2022-04-04  163.600006  164.399994  161.300003  161.699997  161.699997   \n",
       "2022-04-05  162.850006  163.500000  160.149994  160.750000  160.750000   \n",
       "\n",
       "              Volume  \n",
       "Date                  \n",
       "2012-04-09   2388773  \n",
       "2012-04-10  19487983  \n",
       "2012-04-11   6737152  \n",
       "2012-04-12   1583366  \n",
       "2012-04-13   2982106  \n",
       "...              ...  \n",
       "2022-03-30   9955451  \n",
       "2022-03-31  29091799  \n",
       "2022-04-01  17417060  \n",
       "2022-04-04  11484642  \n",
       "2022-04-05  11526625  \n",
       "\n",
       "[2464 rows x 6 columns]"
      ]
     },
     "execution_count": 81,
     "metadata": {},
     "output_type": "execute_result"
    }
   ],
   "source": [
    "data"
   ]
  },
  {
   "cell_type": "markdown",
   "id": "trABa9bcJjSD",
   "metadata": {
    "id": "trABa9bcJjSD"
   },
   "source": [
    "#### The dataset consists of 7 columns \n",
    "##### 1. Date => Format of the data \"yy-m-dd\n",
    "##### 2. Open => Price of the stock at open market\n",
    "##### 3. High => Highest price reached in the day\n",
    "##### 4. Low => Lowest price reached in the day \n",
    "##### 5. Close =>  Price of the stock at the close market\n",
    "##### 6. Adj Close => Ajusted stock price of the day \n",
    "##### 7. Volume => Number of shares traded"
   ]
  },
  {
   "cell_type": "markdown",
   "id": "rv-cLz2BNP6t",
   "metadata": {
    "id": "rv-cLz2BNP6t"
   },
   "source": [
    "### Module 2 : Exponential Data Analysis "
   ]
  },
  {
   "cell_type": "code",
   "execution_count": null,
   "id": "MG3z1RjUBMQ8",
   "metadata": {
    "colab": {
     "base_uri": "https://localhost:8080/",
     "height": 318
    },
    "id": "MG3z1RjUBMQ8",
    "outputId": "e47b9740-a93e-41c4-c086-ffaeb3b9c94b"
   },
   "outputs": [
    {
     "data": {
      "image/png": "[encoded data removed]",
      "text/plain": [
       "<Figure size 720x360 with 1 Axes>"
      ]
     },
     "metadata": {
      "needs_background": "light"
     },
     "output_type": "display_data"
    }
   ],
   "source": [
    "# Price of the stock at open market corresponding to each year\n",
    "# histogram  of the Open price\n",
    "data['Open'].plot(legend=True, figsize = (10, 5))\n",
    "plt.show()\n"
   ]
  },
  {
   "cell_type": "markdown",
   "id": "UfsdjSDVL3da",
   "metadata": {
    "id": "UfsdjSDVL3da"
   },
   "source": [
    "Stock price at open market is really high in the years 2018 and  2019 and \n",
    "least in the year 2020\n",
    "\n"
   ]
  },
  {
   "cell_type": "code",
   "execution_count": null,
   "id": "RsMVR2RYNzZQ",
   "metadata": {
    "colab": {
     "base_uri": "https://localhost:8080/",
     "height": 318
    },
    "id": "RsMVR2RYNzZQ",
    "outputId": "c36c952c-cf28-4789-a17a-a9036d345e40"
   },
   "outputs": [
    {
     "data": {
      "image/png": "[encoded data removed]",
      "text/plain": [
       "<Figure size 720x360 with 1 Axes>"
      ]
     },
     "metadata": {
      "needs_background": "light"
     },
     "output_type": "display_data"
    }
   ],
   "source": [
    "# histogram  of the closing price\n",
    "data['Close'].plot(legend=True, figsize = (10, 5))\n",
    "plt.show()\n"
   ]
  },
  {
   "cell_type": "code",
   "execution_count": null,
   "id": "xrRyd_RkPBQH",
   "metadata": {
    "colab": {
     "base_uri": "https://localhost:8080/",
     "height": 280
    },
    "id": "xrRyd_RkPBQH",
    "outputId": "64221d83-845e-4de1-9586-20919b155a53"
   },
   "outputs": [
    {
     "data": {
      "image/png": "[encoded data removed]",
      "text/plain": [
       "<Figure size 720x288 with 1 Axes>"
      ]
     },
     "metadata": {
      "needs_background": "light"
     },
     "output_type": "display_data"
    }
   ],
   "source": [
    "# Total volume of stock being traded each day over the past 10 years\n",
    "data['Volume'].plot(legend=True,figsize=(10,4))\n",
    "plt.show()"
   ]
  },
  {
   "cell_type": "code",
   "execution_count": null,
   "id": "c5194440",
   "metadata": {
    "id": "c5194440"
   },
   "outputs": [],
   "source": [
    "import matplotlib.pyplot as plt"
   ]
  },
  {
   "cell_type": "code",
   "execution_count": null,
   "id": "0e73b789",
   "metadata": {
    "id": "0e73b789"
   },
   "outputs": [],
   "source": [
    "import numpy as np"
   ]
  },
  {
   "cell_type": "code",
   "execution_count": null,
   "id": "0e6c1c22",
   "metadata": {
    "id": "0e6c1c22"
   },
   "outputs": [],
   "source": [
    "from sklearn.preprocessing import MinMaxScaler"
   ]
  },
  {
   "cell_type": "code",
   "execution_count": null,
   "id": "cf6a3e1b",
   "metadata": {
    "id": "cf6a3e1b"
   },
   "outputs": [],
   "source": [
    "#Using MinMaxScaler for normalizing data between 0 & 1\n",
    "normalizer = MinMaxScaler(feature_range=(0,1))\n",
    "ds_scaled = normalizer.fit_transform(np.array(ds).reshape(-1,1))"
   ]
  },
  {
   "cell_type": "code",
   "execution_count": null,
   "id": "7dbea1d5",
   "metadata": {
    "colab": {
     "base_uri": "https://localhost:8080/"
    },
    "id": "7dbea1d5",
    "outputId": "262810e8-3c7d-46fd-9e26-c43c7fe72e71"
   },
   "outputs": [
    {
     "data": {
      "text/plain": [
       "(1237, 1237)"
      ]
     },
     "execution_count": 37,
     "metadata": {},
     "output_type": "execute_result"
    }
   ],
   "source": [
    "len(ds_scaled), len(ds)"
   ]
  },
  {
   "cell_type": "code",
   "execution_count": null,
   "id": "a20c5654",
   "metadata": {
    "id": "a20c5654"
   },
   "outputs": [],
   "source": [
    "#Defining test and train data sizes\n",
    "train_size = int(len(ds_scaled)*0.70)\n",
    "test_size = len(ds_scaled) - train_size"
   ]
  },
  {
   "cell_type": "code",
   "execution_count": null,
   "id": "b964aa4e",
   "metadata": {
    "colab": {
     "base_uri": "https://localhost:8080/"
    },
    "id": "b964aa4e",
    "outputId": "c9513b2b-e241-4dcb-a321-ddd02debe267"
   },
   "outputs": [
    {
     "data": {
      "text/plain": [
       "(865, 372)"
      ]
     },
     "execution_count": 39,
     "metadata": {},
     "output_type": "execute_result"
    }
   ],
   "source": [
    "train_size,test_size"
   ]
  },
  {
   "cell_type": "code",
   "execution_count": null,
   "id": "25ca615e",
   "metadata": {
    "id": "25ca615e"
   },
   "outputs": [],
   "source": [
    "#Splitting data between train and test\n",
    "ds_train, ds_test = ds_scaled[0:train_size,:], ds_scaled[train_size:len(ds_scaled),:1]"
   ]
  },
  {
   "cell_type": "code",
   "execution_count": null,
   "id": "95913f28",
   "metadata": {
    "colab": {
     "base_uri": "https://localhost:8080/"
    },
    "id": "95913f28",
    "outputId": "5b1a5f5b-284a-4558-8a51-cb245ccba0e6"
   },
   "outputs": [
    {
     "data": {
      "text/plain": [
       "(865, 372)"
      ]
     },
     "execution_count": 41,
     "metadata": {},
     "output_type": "execute_result"
    }
   ],
   "source": [
    "len(ds_train),len(ds_test)"
   ]
  },
  {
   "cell_type": "code",
   "execution_count": null,
   "id": "5dd0b45e",
   "metadata": {
    "id": "5dd0b45e"
   },
   "outputs": [],
   "source": [
    "#creating dataset in time series for LSTM model \n",
    "#X[100,120,140,160,180] : Y[200]\n",
    "def create_ds(dataset,step):\n",
    "    Xtrain, Ytrain = [], []\n",
    "    for i in range(len(dataset)-step-1):\n",
    "        a = dataset[i:(i+step), 0]\n",
    "        Xtrain.append(a)\n",
    "        Ytrain.append(dataset[i + step, 0])\n",
    "    return np.array(Xtrain), np.array(Ytrain)"
   ]
  },
  {
   "cell_type": "code",
   "execution_count": null,
   "id": "d28b7d1d",
   "metadata": {
    "id": "d28b7d1d"
   },
   "outputs": [],
   "source": [
    "#Taking 100 days price as one record for training\n",
    "time_stamp = 100\n",
    "X_train, y_train = create_ds(ds_train,time_stamp)\n",
    "X_test, y_test = create_ds(ds_test,time_stamp)"
   ]
  },
  {
   "cell_type": "code",
   "execution_count": null,
   "id": "03ce9096",
   "metadata": {
    "colab": {
     "base_uri": "https://localhost:8080/"
    },
    "id": "03ce9096",
    "outputId": "ba1f8563-4b36-4122-b8f5-112108fb5b25"
   },
   "outputs": [
    {
     "data": {
      "text/plain": [
       "((764, 100), (764,))"
      ]
     },
     "execution_count": 44,
     "metadata": {},
     "output_type": "execute_result"
    }
   ],
   "source": [
    "X_train.shape,y_train.shape"
   ]
  },
  {
   "cell_type": "code",
   "execution_count": null,
   "id": "84acdd72",
   "metadata": {
    "colab": {
     "base_uri": "https://localhost:8080/"
    },
    "id": "84acdd72",
    "outputId": "5316b1f9-4258-4266-c141-31c3d2529be6"
   },
   "outputs": [
    {
     "data": {
      "text/plain": [
       "((271, 100), (271,))"
      ]
     },
     "execution_count": 45,
     "metadata": {},
     "output_type": "execute_result"
    }
   ],
   "source": [
    "X_test.shape, y_test.shape"
   ]
  },
  {
   "cell_type": "code",
   "execution_count": null,
   "id": "c657d193",
   "metadata": {
    "id": "c657d193"
   },
   "outputs": [],
   "source": [
    "#Reshaping data to fit into LSTM model\n",
    "X_train = X_train.reshape(X_train.shape[0],X_train.shape[1] , 1)\n",
    "X_test = X_test.reshape(X_test.shape[0],X_test.shape[1] , 1)"
   ]
  },
  {
   "cell_type": "code",
   "execution_count": null,
   "id": "82844671",
   "metadata": {
    "id": "82844671"
   },
   "outputs": [],
   "source": [
    "from keras.models import Sequential\n",
    "from keras.layers import Dense, LSTM"
   ]
  },
  {
   "cell_type": "code",
   "execution_count": null,
   "id": "b5250913",
   "metadata": {
    "colab": {
     "base_uri": "https://localhost:8080/"
    },
    "id": "b5250913",
    "outputId": "6766735a-c767-4d19-a33d-48a1153079e1"
   },
   "outputs": [
    {
     "name": "stdout",
     "output_type": "stream",
     "text": [
      "Model: \"sequential\"\n",
      "_________________________________________________________________\n",
      " Layer (type)                Output Shape              Param #   \n",
      "=================================================================\n",
      " lstm (LSTM)                 (None, 100, 50)           10400     \n",
      "                                                                 \n",
      " lstm_1 (LSTM)               (None, 100, 50)           20200     \n",
      "                                                                 \n",
      " lstm_2 (LSTM)               (None, 50)                20200     \n",
      "                                                                 \n",
      " dense (Dense)               (None, 1)                 51        \n",
      "                                                                 \n",
      "=================================================================\n",
      "Total params: 50,851\n",
      "Trainable params: 50,851\n",
      "Non-trainable params: 0\n",
      "_________________________________________________________________\n"
     ]
    }
   ],
   "source": [
    "#Creating LSTM model using keras\n",
    "model = Sequential()\n",
    "model.add(LSTM(units=50,return_sequences=True,input_shape=(X_train.shape[1],1)))\n",
    "model.add(LSTM(units=50,return_sequences=True))\n",
    "model.add(LSTM(units=50))\n",
    "model.add(Dense(units=1,activation='linear'))\n",
    "model.summary()"
   ]
  },
  {
   "cell_type": "code",
   "execution_count": null,
   "id": "7e8ff062",
   "metadata": {
    "colab": {
     "base_uri": "https://localhost:8080/"
    },
    "id": "7e8ff062",
    "outputId": "a930553e-7783-4273-ea28-c6e36de0f443"
   },
   "outputs": [
    {
     "name": "stdout",
     "output_type": "stream",
     "text": [
      "Epoch 1/25\n",
      "12/12 [==============================] - 11s 330ms/step - loss: 0.1319 - val_loss: 0.0040\n",
      "Epoch 2/25\n",
      "12/12 [==============================] - 2s 196ms/step - loss: 0.0197 - val_loss: 0.0136\n",
      "Epoch 3/25\n",
      "12/12 [==============================] - 2s 193ms/step - loss: 0.0108 - val_loss: 0.0044\n",
      "Epoch 4/25\n",
      "12/12 [==============================] - 2s 197ms/step - loss: 0.0066 - val_loss: 0.0038\n",
      "Epoch 5/25\n",
      "12/12 [==============================] - 2s 191ms/step - loss: 0.0048 - val_loss: 0.0040\n",
      "Epoch 6/25\n",
      "12/12 [==============================] - 2s 192ms/step - loss: 0.0038 - val_loss: 0.0041\n",
      "Epoch 7/25\n",
      "12/12 [==============================] - 2s 195ms/step - loss: 0.0038 - val_loss: 0.0043\n",
      "Epoch 8/25\n",
      "12/12 [==============================] - 2s 194ms/step - loss: 0.0037 - val_loss: 0.0040\n",
      "Epoch 9/25\n",
      "12/12 [==============================] - 3s 251ms/step - loss: 0.0036 - val_loss: 0.0039\n",
      "Epoch 10/25\n",
      "12/12 [==============================] - 2s 197ms/step - loss: 0.0036 - val_loss: 0.0038\n",
      "Epoch 11/25\n",
      "12/12 [==============================] - 2s 192ms/step - loss: 0.0036 - val_loss: 0.0038\n",
      "Epoch 12/25\n",
      "12/12 [==============================] - 2s 193ms/step - loss: 0.0035 - val_loss: 0.0037\n",
      "Epoch 13/25\n",
      "12/12 [==============================] - 2s 193ms/step - loss: 0.0033 - val_loss: 0.0037\n",
      "Epoch 14/25\n",
      "12/12 [==============================] - 2s 191ms/step - loss: 0.0033 - val_loss: 0.0037\n",
      "Epoch 15/25\n",
      "12/12 [==============================] - 2s 193ms/step - loss: 0.0032 - val_loss: 0.0036\n",
      "Epoch 16/25\n",
      "12/12 [==============================] - 2s 192ms/step - loss: 0.0031 - val_loss: 0.0035\n",
      "Epoch 17/25\n",
      "12/12 [==============================] - 2s 197ms/step - loss: 0.0032 - val_loss: 0.0034\n",
      "Epoch 18/25\n",
      "12/12 [==============================] - 2s 192ms/step - loss: 0.0031 - val_loss: 0.0034\n",
      "Epoch 19/25\n",
      "12/12 [==============================] - 2s 193ms/step - loss: 0.0031 - val_loss: 0.0034\n",
      "Epoch 20/25\n",
      "12/12 [==============================] - 2s 195ms/step - loss: 0.0031 - val_loss: 0.0034\n",
      "Epoch 21/25\n",
      "12/12 [==============================] - 2s 196ms/step - loss: 0.0030 - val_loss: 0.0036\n",
      "Epoch 22/25\n",
      "12/12 [==============================] - 2s 196ms/step - loss: 0.0031 - val_loss: 0.0033\n",
      "Epoch 23/25\n",
      "12/12 [==============================] - 2s 201ms/step - loss: 0.0029 - val_loss: 0.0032\n",
      "Epoch 24/25\n",
      "12/12 [==============================] - 2s 195ms/step - loss: 0.0028 - val_loss: 0.0031\n",
      "Epoch 25/25\n",
      "12/12 [==============================] - 2s 192ms/step - loss: 0.0029 - val_loss: 0.0031\n"
     ]
    },
    {
     "data": {
      "text/plain": [
       "<keras.callbacks.History at 0x7fdc163f49d0>"
      ]
     },
     "execution_count": 49,
     "metadata": {},
     "output_type": "execute_result"
    }
   ],
   "source": [
    "#Training model with adam optimizer and mean squared error loss function\n",
    "model.compile(loss='mean_squared_error',optimizer='adam')\n",
    "model.fit(X_train,y_train,validation_data=(X_test,y_test),epochs=25,batch_size=64)"
   ]
  },
  {
   "cell_type": "code",
   "execution_count": null,
   "id": "18b1ba6a",
   "metadata": {
    "colab": {
     "base_uri": "https://localhost:8080/",
     "height": 282
    },
    "id": "18b1ba6a",
    "outputId": "7a3d07c6-6cb5-4a32-8018-991a72587eda"
   },
   "outputs": [
    {
     "data": {
      "text/plain": [
       "[<matplotlib.lines.Line2D at 0x7fdc1116aa90>]"
      ]
     },
     "execution_count": 50,
     "metadata": {},
     "output_type": "execute_result"
    },
    {
     "data": {
      "image/png": "[encoded data removed]",
      "text/plain": [
       "<Figure size 432x288 with 1 Axes>"
      ]
     },
     "metadata": {
      "needs_background": "light"
     },
     "output_type": "display_data"
    }
   ],
   "source": [
    "#PLotting loss, it shows that loss has decreased significantly and model trained well\n",
    "loss = model.history.history['loss']\n",
    "plt.plot(loss)"
   ]
  },
  {
   "cell_type": "code",
   "execution_count": null,
   "id": "3e7f2fc8",
   "metadata": {
    "id": "3e7f2fc8"
   },
   "outputs": [],
   "source": [
    "#Predicitng on train and test data\n",
    "train_predict = model.predict(X_train)\n",
    "test_predict = model.predict(X_test)"
   ]
  },
  {
   "cell_type": "code",
   "execution_count": null,
   "id": "c2d6c2d5",
   "metadata": {
    "id": "c2d6c2d5"
   },
   "outputs": [],
   "source": [
    "#Inverse transform to get actual value\n",
    "train_predict = normalizer.inverse_transform(train_predict)\n",
    "test_predict = normalizer.inverse_transform(test_predict)"
   ]
  },
  {
   "cell_type": "code",
   "execution_count": null,
   "id": "9d0543ad",
   "metadata": {
    "colab": {
     "base_uri": "https://localhost:8080/",
     "height": 282
    },
    "id": "9d0543ad",
    "outputId": "3b514672-1b47-4e8d-cc3f-3eba2bc38c88"
   },
   "outputs": [
    {
     "data": {
      "text/plain": [
       "[<matplotlib.lines.Line2D at 0x7fdc16013c50>]"
      ]
     },
     "execution_count": 53,
     "metadata": {},
     "output_type": "execute_result"
    },
    {
     "data": {
      "image/png": "[encoded data removed]",
      "text/plain": [
       "<Figure size 432x288 with 1 Axes>"
      ]
     },
     "metadata": {
      "needs_background": "light"
     },
     "output_type": "display_data"
    }
   ],
   "source": [
    "\n",
    "#Comparing using visuals\n",
    "plt.plot(normalizer.inverse_transform(ds_scaled))\n",
    "plt.plot(train_predict)\n",
    "plt.plot(test_predict)"
   ]
  },
  {
   "cell_type": "code",
   "execution_count": null,
   "id": "55300bae",
   "metadata": {
    "colab": {
     "base_uri": "https://localhost:8080/"
    },
    "id": "55300bae",
    "outputId": "306e784e-c05f-408a-d039-a2b87422a6ee"
   },
   "outputs": [
    {
     "data": {
      "text/plain": [
       "numpy.ndarray"
      ]
     },
     "execution_count": 54,
     "metadata": {},
     "output_type": "execute_result"
    }
   ],
   "source": [
    "type(train_predict)"
   ]
  },
  {
   "cell_type": "code",
   "execution_count": null,
   "id": "bf6d5613",
   "metadata": {
    "id": "bf6d5613"
   },
   "outputs": [],
   "source": [
    "test = np.vstack((train_predict,test_predict))"
   ]
  },
  {
   "cell_type": "code",
   "execution_count": null,
   "id": "41b272ff",
   "metadata": {
    "colab": {
     "base_uri": "https://localhost:8080/",
     "height": 282
    },
    "id": "41b272ff",
    "outputId": "3335e18c-aee9-4915-f881-0a4ce3dffac1"
   },
   "outputs": [
    {
     "data": {
      "text/plain": [
       "[<matplotlib.lines.Line2D at 0x7fdc16038150>]"
      ]
     },
     "execution_count": 56,
     "metadata": {},
     "output_type": "execute_result"
    },
    {
     "data": {
      "image/png": "[encoded data removed]",
      "text/plain": [
       "<Figure size 432x288 with 1 Axes>"
      ]
     },
     "metadata": {
      "needs_background": "light"
     },
     "output_type": "display_data"
    }
   ],
   "source": [
    "#Combining the predited data to create uniform data visualization\n",
    "plt.plot(normalizer.inverse_transform(ds_scaled))\n",
    "plt.plot(test)"
   ]
  },
  {
   "cell_type": "code",
   "execution_count": null,
   "id": "16af9283",
   "metadata": {
    "colab": {
     "base_uri": "https://localhost:8080/"
    },
    "id": "16af9283",
    "outputId": "25dd6aa0-546e-42d8-b76a-c96251926826"
   },
   "outputs": [
    {
     "data": {
      "text/plain": [
       "372"
      ]
     },
     "execution_count": 57,
     "metadata": {},
     "output_type": "execute_result"
    }
   ],
   "source": [
    "len(ds_test)"
   ]
  },
  {
   "cell_type": "code",
   "execution_count": null,
   "id": "c13df7b8",
   "metadata": {
    "id": "c13df7b8"
   },
   "outputs": [],
   "source": [
    "#Getting the last 100 days records\n",
    "fut_inp = ds_test[270:]"
   ]
  },
  {
   "cell_type": "code",
   "execution_count": null,
   "id": "52b30579",
   "metadata": {
    "id": "52b30579"
   },
   "outputs": [],
   "source": [
    "fut_inp = fut_inp.reshape(1,-1)"
   ]
  },
  {
   "cell_type": "code",
   "execution_count": null,
   "id": "ac2686a6",
   "metadata": {
    "id": "ac2686a6"
   },
   "outputs": [],
   "source": [
    "tmp_inp = list(fut_inp)"
   ]
  },
  {
   "cell_type": "code",
   "execution_count": null,
   "id": "dad5024f",
   "metadata": {
    "colab": {
     "base_uri": "https://localhost:8080/"
    },
    "id": "dad5024f",
    "outputId": "f3bc531b-f242-4018-9b50-c31e5baf9e97"
   },
   "outputs": [
    {
     "data": {
      "text/plain": [
       "(1, 102)"
      ]
     },
     "execution_count": 61,
     "metadata": {},
     "output_type": "execute_result"
    }
   ],
   "source": [
    "fut_inp.shape"
   ]
  },
  {
   "cell_type": "code",
   "execution_count": null,
   "id": "98042a30",
   "metadata": {
    "id": "98042a30"
   },
   "outputs": [],
   "source": [
    "\n",
    "#Creating list of the last 100 data\n",
    "tmp_inp = tmp_inp[0].tolist()"
   ]
  },
  {
   "cell_type": "code",
   "execution_count": null,
   "id": "49450ea7",
   "metadata": {
    "id": "49450ea7"
   },
   "outputs": [],
   "source": [
    "#Creating a dummy plane to plot graph one after another\n",
    "plot_new=np.arange(1,101)\n",
    "plot_pred=np.arange(101,131)"
   ]
  },
  {
   "cell_type": "code",
   "execution_count": null,
   "id": "e41c9362",
   "metadata": {
    "id": "e41c9362"
   },
   "outputs": [],
   "source": [
    "ds_new = ds_scaled.tolist()"
   ]
  },
  {
   "cell_type": "code",
   "execution_count": null,
   "id": "d6c8d3c1",
   "metadata": {
    "colab": {
     "base_uri": "https://localhost:8080/"
    },
    "id": "d6c8d3c1",
    "outputId": "4192a830-e32a-4dcc-fe20-6c8e925884c2"
   },
   "outputs": [
    {
     "data": {
      "text/plain": [
       "1237"
      ]
     },
     "execution_count": 65,
     "metadata": {},
     "output_type": "execute_result"
    }
   ],
   "source": [
    "len(ds_new)"
   ]
  },
  {
   "cell_type": "code",
   "execution_count": null,
   "id": "7f04f058",
   "metadata": {
    "id": "7f04f058"
   },
   "outputs": [],
   "source": [
    "#Creating final data for plotting\n",
    "final_graph = normalizer.inverse_transform(ds_new).tolist()"
   ]
  },
  {
   "cell_type": "code",
   "execution_count": null,
   "id": "2dfdef30",
   "metadata": {
    "colab": {
     "base_uri": "https://localhost:8080/",
     "height": 312
    },
    "id": "2dfdef30",
    "outputId": "656e7f67-3e6e-4c9a-8198-64421c157076"
   },
   "outputs": [
    {
     "data": {
      "text/plain": [
       "<matplotlib.legend.Legend at 0x7fdc162f5790>"
      ]
     },
     "execution_count": 68,
     "metadata": {},
     "output_type": "execute_result"
    },
    {
     "data": {
      "image/png": "[encoded data removed]",
      "text/plain": [
       "<Figure size 432x288 with 1 Axes>"
      ]
     },
     "metadata": {
      "needs_background": "light"
     },
     "output_type": "display_data"
    }
   ],
   "source": [
    "#Plotting final results with predicted value after 30 Days\n",
    "plt.plot(final_graph,)\n",
    "plt.ylabel(\"Price\")\n",
    "plt.xlabel(\"Time\")\n",
    "plt.title(\"{0} prediction of next month open\".format(stock_symbol))\n",
    "plt.axhline(y=final_graph[len(final_graph)-1], color = 'red', linestyle = ':', label = 'NEXT 30D: {0}'.format(round(float(*final_graph[len(final_graph)-1]),2)))\n",
    "plt.legend()\n",
    "\n"
   ]
  }
 ],
 "metadata": {
  "colab": {
   "collapsed_sections": [],
   "name": "Review3_DV .ipynb",
   "provenance": []
  },
  "kernelspec": {
   "display_name": "Python 3",
   "language": "python",
   "name": "python3"
  },
  "language_info": {
   "codemirror_mode": {
    "name": "ipython",
    "version": 3
   },
   "file_extension": ".py",
   "mimetype": "text/x-python",
   "name": "python",
   "nbconvert_exporter": "python",
   "pygments_lexer": "ipython3",
   "version": "3.8.8"
  }
 },
 "nbformat": 4,
 "nbformat_minor": 5
}
